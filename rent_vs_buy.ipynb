{
 "cells": [
  {
   "cell_type": "code",
   "execution_count": 82,
   "metadata": {},
   "outputs": [],
   "source": [
    "import pandas as pd\n",
    "import numpy_financial as npf\n",
    "import matplotlib.pyplot as plt\n",
    "import seaborn as sns"
   ]
  },
  {
   "cell_type": "markdown",
   "metadata": {},
   "source": [
    "# Ben Felix's 5% Rule [[SOURCE](https://www.youtube.com/watch?v=Uwl3-jBNEd4)]\n",
    "Mortgage payment to rent is not a direct apples to apples comparison. \n",
    "\n",
    "The cost of buying vs. renting needs to be broken down into the **unrecoverable costs** for each, with an unrecoverable cost being the cost you pay with no associated residual value. \n",
    "\n",
    "\n",
    "The total unrecoverable cost of renting is simple:\n",
    "1. **Rent**\n",
    "\n",
    "The total unrecoverable cost of home ownership is more opaque, but falls into 3 categories:\n",
    "1. **Property Tax** \n",
    "2. **Maitenance Cost** \n",
    "3. **Cost of capital (Cost of Debt + Cost of Equity)**\n"
   ]
  },
  {
   "cell_type": "markdown",
   "metadata": {},
   "source": [
    "### Property Tax\n",
    "1. NJ home owners pay the highest property taxes in the U.S. Almost double the national average. Look up  here:\n",
    " https://www.tax-rates.org/new_jersey/property-tax"
   ]
  },
  {
   "cell_type": "markdown",
   "metadata": {},
   "source": [
    "---\n",
    "# ADD YOUR HOME PRICE AND PROPERTY TAX RATE IN THE CELL BELOW"
   ]
  },
  {
   "cell_type": "code",
   "execution_count": 83,
   "metadata": {},
   "outputs": [],
   "source": [
    "# home price\n",
    "home_price = 1_100_000\n",
    "\n",
    "# property tax rate\n",
    "tax_rate = .0226"
   ]
  },
  {
   "cell_type": "markdown",
   "metadata": {},
   "source": [
    "--- "
   ]
  },
  {
   "cell_type": "code",
   "execution_count": 84,
   "metadata": {},
   "outputs": [
    {
     "name": "stdout",
     "output_type": "stream",
     "text": [
      "Monthly Property Tax: $-2071.667\n"
     ]
    }
   ],
   "source": [
    "# property tax annual = home price * tax rate\n",
    "property_tax_annual = - (home_price * tax_rate)\n",
    "\n",
    "# property tax monthly = property tax annual / 12\n",
    "property_tax_monthly = property_tax_annual/12\n",
    "\n",
    "print((f\"Monthly Property Tax: ${property_tax_monthly:.3f}\"))"
   ]
  },
  {
   "cell_type": "markdown",
   "metadata": {},
   "source": [
    "### Maitenance Cost\n",
    "1. Will be assumed to be 1% of the purchase price. "
   ]
  },
  {
   "cell_type": "code",
   "execution_count": 85,
   "metadata": {},
   "outputs": [
    {
     "name": "stdout",
     "output_type": "stream",
     "text": [
      "Monthly Maitenance: $-916.667\n"
     ]
    }
   ],
   "source": [
    "maitenance_cost_annual = - home_price * .01\n",
    "\n",
    "maitenance_cost_monthly = maitenance_cost_annual/12\n",
    "\n",
    "print((f\"Monthly Maitenance: ${maitenance_cost_monthly:.3f}\"))"
   ]
  },
  {
   "cell_type": "markdown",
   "metadata": {},
   "source": [
    "### Cost of Capital\n",
    "\n",
    "Broken Down into two categories: Cost of Debt, Cost of Equity.\n",
    "\n",
    "#### Mortgage\n",
    "To buy a home, you usually purchase with a down-payment in cash. This is Typically 20% of the value of the home, with the rest of the value being financed with a mortgage. \n",
    "- The down-payment is your **equity**\n",
    "- The mortgage is your **debt**, and the mortgage interest cost is the **unrecoverable cost**\n",
    "- Together your debt and equity make up 100% of the value of your home\n",
    "$$ \\text{Cost of Capital} = \\text{Cost of Debt + Cost of Equity} $$\n",
    "\n",
    "#### Cost of Debt\n",
    "$\\text{Cost of Debt}$ is the interest you pay on your mortgage.\n",
    "- In 2022 annual mortgage rates in New Jersey for a 30-yr fixed with 200-300k downpayment  and a 780 credit rating are ~ 6%"
   ]
  },
  {
   "cell_type": "markdown",
   "metadata": {},
   "source": [
    "---\n",
    "# ADD YOUR MORTGAGE RATE AND LENGTH IN THE CELL BELOW"
   ]
  },
  {
   "cell_type": "code",
   "execution_count": 86,
   "metadata": {},
   "outputs": [],
   "source": [
    "# Mortgage Rate for 30 year fixed-rate \n",
    "mortgage_rate = .06\n",
    "\n",
    "# Mortgage Length\n",
    "years = 30"
   ]
  },
  {
   "cell_type": "markdown",
   "metadata": {},
   "source": [
    "---"
   ]
  },
  {
   "cell_type": "code",
   "execution_count": 87,
   "metadata": {},
   "outputs": [
    {
     "name": "stdout",
     "output_type": "stream",
     "text": [
      "Cost of Debt Monthly: $-5276.045\n"
     ]
    }
   ],
   "source": [
    "# Mortgage Amount\n",
    "mortgage = home_price * .80\n",
    "\n",
    "# monthly mortgage payment, ammortized over 30 year period\n",
    "cost_of_debt_monthly = npf.pmt(mortgage_rate/12, 12*years, mortgage)\n",
    "\n",
    "print((f\"Cost of Debt Monthly: ${cost_of_debt_monthly:.3f}\"))"
   ]
  },
  {
   "cell_type": "markdown",
   "metadata": {},
   "source": [
    "#### Cost of Equity\n",
    "$ \\text{Cost of Equity} $ is the Opportunity Cost incurred from using the 20% downpayment as a real estate investment rather than in the stock market. \n",
    "\n",
    "- The simplest way to compare stock and real estate is by examining the indexed performance of both markets. From March 1992 to March 2022, the U.S. housing average growth rate was 5.3%.\n",
    "\n",
    "- The S&P 500 returned 9.65% annualized from the beginning of 1992 to the same period in 2022.\n",
    "\n",
    "We are aggressive stock investors, so we'll use the historical S&P 500 return.\n",
    "\n",
    "9.65% - 5.3% = 3.35% is the annualized Opportunity Cost of investing in real estate vs. the stock market\n"
   ]
  },
  {
   "cell_type": "code",
   "execution_count": 88,
   "metadata": {},
   "outputs": [
    {
     "name": "stdout",
     "output_type": "stream",
     "text": [
      "Cost of Debt Monthly: $-5276.045\n",
      "Cost of Equity Monthly: $-614.167\n",
      "Cost of Capital Monthly: $-5890.211\n"
     ]
    }
   ],
   "source": [
    "\n",
    "# down payment\n",
    "down_payment = home_price * .20\n",
    "\n",
    "# opportunity cost = 9.65% - 5.3% \n",
    "opportunity_cost = .0335\n",
    "\n",
    "# cost of equity annual\n",
    "cost_of_equity_annual = down_payment * - opportunity_cost\n",
    "\n",
    "# cost of equity monthly\n",
    "cost_of_equity_monthly = cost_of_equity_annual/12\n",
    "\n",
    "# cost of capital\n",
    "cost_of_capital_monthly = cost_of_equity_monthly + cost_of_debt_monthly\n",
    "\n",
    "print((f\"Cost of Debt Monthly: ${cost_of_debt_monthly:.3f}\"))\n",
    "print((f\"Cost of Equity Monthly: ${cost_of_equity_monthly:.3f}\"))\n",
    "print((f\"Cost of Capital Monthly: ${cost_of_capital_monthly:.3f}\"))"
   ]
  },
  {
   "cell_type": "markdown",
   "metadata": {},
   "source": [
    "### Putting it all Together\n",
    "\n",
    "$$\\text{Breakeven = Property Tax + Maitenance + Cost of Capital}$$"
   ]
  },
  {
   "cell_type": "code",
   "execution_count": 89,
   "metadata": {},
   "outputs": [
    {
     "name": "stdout",
     "output_type": "stream",
     "text": [
      "Rent Breakeven: $-8878.545\n",
      "Cost Summary:\n"
     ]
    },
    {
     "data": {
      "text/html": [
       "<style type=\"text/css\">\n",
       "</style>\n",
       "<table id=\"T_6ab05\">\n",
       "  <thead>\n",
       "    <tr>\n",
       "      <th class=\"blank level0\" >&nbsp;</th>\n",
       "      <th id=\"T_6ab05_level0_col0\" class=\"col_heading level0 col0\" >Costs</th>\n",
       "    </tr>\n",
       "  </thead>\n",
       "  <tbody>\n",
       "    <tr>\n",
       "      <th id=\"T_6ab05_level0_row0\" class=\"row_heading level0 row0\" >home_price</th>\n",
       "      <td id=\"T_6ab05_row0_col0\" class=\"data row0 col0\" >$ 1,100,000.00</td>\n",
       "    </tr>\n",
       "    <tr>\n",
       "      <th id=\"T_6ab05_level0_row1\" class=\"row_heading level0 row1\" >mortgage</th>\n",
       "      <td id=\"T_6ab05_row1_col0\" class=\"data row1 col0\" >$ 880,000.00</td>\n",
       "    </tr>\n",
       "    <tr>\n",
       "      <th id=\"T_6ab05_level0_row2\" class=\"row_heading level0 row2\" >down_payment</th>\n",
       "      <td id=\"T_6ab05_row2_col0\" class=\"data row2 col0\" >$ 220,000.00</td>\n",
       "    </tr>\n",
       "    <tr>\n",
       "      <th id=\"T_6ab05_level0_row3\" class=\"row_heading level0 row3\" >property_tax_monthly</th>\n",
       "      <td id=\"T_6ab05_row3_col0\" class=\"data row3 col0\" >$ -2,071.67</td>\n",
       "    </tr>\n",
       "    <tr>\n",
       "      <th id=\"T_6ab05_level0_row4\" class=\"row_heading level0 row4\" >maitenance_cost_monthly</th>\n",
       "      <td id=\"T_6ab05_row4_col0\" class=\"data row4 col0\" >$ -916.67</td>\n",
       "    </tr>\n",
       "    <tr>\n",
       "      <th id=\"T_6ab05_level0_row5\" class=\"row_heading level0 row5\" >cost_of_debt_monthly</th>\n",
       "      <td id=\"T_6ab05_row5_col0\" class=\"data row5 col0\" >$ -5,276.04</td>\n",
       "    </tr>\n",
       "    <tr>\n",
       "      <th id=\"T_6ab05_level0_row6\" class=\"row_heading level0 row6\" >cost_of_equity_monthly</th>\n",
       "      <td id=\"T_6ab05_row6_col0\" class=\"data row6 col0\" >$ -614.17</td>\n",
       "    </tr>\n",
       "    <tr>\n",
       "      <th id=\"T_6ab05_level0_row7\" class=\"row_heading level0 row7\" >cost_of_capital_monthly</th>\n",
       "      <td id=\"T_6ab05_row7_col0\" class=\"data row7 col0\" >$ -5,890.21</td>\n",
       "    </tr>\n",
       "    <tr>\n",
       "      <th id=\"T_6ab05_level0_row8\" class=\"row_heading level0 row8\" >rent_breakeven</th>\n",
       "      <td id=\"T_6ab05_row8_col0\" class=\"data row8 col0\" >$ -8,878.54</td>\n",
       "    </tr>\n",
       "  </tbody>\n",
       "</table>\n"
      ],
      "text/plain": [
       "<pandas.io.formats.style.Styler at 0x1c9fe6532b0>"
      ]
     },
     "execution_count": 89,
     "metadata": {},
     "output_type": "execute_result"
    }
   ],
   "source": [
    "# rent breakeven\n",
    "rent_breakeven = property_tax_monthly + maitenance_cost_monthly + cost_of_capital_monthly\n",
    "\n",
    "print((f\"Rent Breakeven: ${rent_breakeven:.3f}\"))\n",
    "\n",
    "# dataframe summary\n",
    "df = pd.DataFrame({'home_price': [home_price],\n",
    "                     'mortgage': [mortgage],\n",
    "                        'down_payment': [down_payment],\n",
    "                        'property_tax_monthly': [property_tax_monthly],\n",
    "                        'maitenance_cost_monthly': [maitenance_cost_monthly],\n",
    "                        'cost_of_debt_monthly': [cost_of_debt_monthly],\n",
    "                        'cost_of_equity_monthly': [cost_of_equity_monthly],\n",
    "                        'cost_of_capital_monthly': [cost_of_capital_monthly],\n",
    "                        'rent_breakeven': [rent_breakeven]\n",
    "                        })\n",
    "\n",
    "# style dataframe\n",
    "df = df.T\n",
    "\n",
    "# add column names\n",
    "df.columns = ['Costs']\n",
    "\n",
    "# round to 2 decimal places\n",
    "df = df.round(2)\n",
    "df = df.style.format('$ {0:,.2f}')\n",
    "\n",
    "print('Cost Summary:')\n",
    "df\n"
   ]
  }
 ],
 "metadata": {
  "kernelspec": {
   "display_name": "Python 3.10.6 64-bit",
   "language": "python",
   "name": "python3"
  },
  "language_info": {
   "codemirror_mode": {
    "name": "ipython",
    "version": 3
   },
   "file_extension": ".py",
   "mimetype": "text/x-python",
   "name": "python",
   "nbconvert_exporter": "python",
   "pygments_lexer": "ipython3",
   "version": "3.9.13"
  },
  "orig_nbformat": 4,
  "vscode": {
   "interpreter": {
    "hash": "09ab9d09769e58172906761f459bc163a0e89466ed4f026e5ecbc7e4a778c55c"
   }
  }
 },
 "nbformat": 4,
 "nbformat_minor": 2
}
