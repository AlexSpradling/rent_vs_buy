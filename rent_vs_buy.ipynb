{
 "cells": [
  {
   "cell_type": "code",
   "execution_count": 27,
   "metadata": {},
   "outputs": [],
   "source": [
    "import pandas as pd\n",
    "import numpy_financial as npf\n",
    "import matplotlib.pyplot as plt\n",
    "import seaborn as sns"
   ]
  },
  {
   "cell_type": "markdown",
   "metadata": {},
   "source": [
    "# The 5% Rule-Sorta\n",
    "\n",
    "Mortgage payment to rent is not a direct apples to apples comparison. \n",
    "\n",
    "The cost of buying vs. renting needs to be broken down into the **unrecoverable costs** for each, with an unrecoverable cost being the cost you pay with no associated residual value. \n",
    "\n",
    "\n",
    "The total unrecoverable cost of renting is simple:\n",
    "1. **Rent**\n",
    "\n",
    "The total unrecoverable cost of home ownership is more opaque, but falls into 3 categories:\n",
    "1. **Property Tax** \n",
    "2. **Maitenance Cost** \n",
    "3. **Cost of capital (Cost of Debt + Cost of Equity)**\n"
   ]
  },
  {
   "cell_type": "markdown",
   "metadata": {},
   "source": [
    "### Property Tax\n",
    "1. NJ home owners pay the highest property taxes in the U.S. Almost double the national average. The average property tax rate is 2.42%"
   ]
  },
  {
   "cell_type": "code",
   "execution_count": 28,
   "metadata": {},
   "outputs": [],
   "source": [
    "home_price = 1_100_000\n",
    "\n",
    "tax_rate = .0242"
   ]
  },
  {
   "cell_type": "code",
   "execution_count": 29,
   "metadata": {},
   "outputs": [
    {
     "name": "stdout",
     "output_type": "stream",
     "text": [
      "Monthly Property Tax: $-2218.333\n"
     ]
    }
   ],
   "source": [
    "\n",
    "property_tax_annual = - (home_price * tax_rate)\n",
    "\n",
    "property_tax_monthly = property_tax_annual/12\n",
    "\n",
    "print((f\"Monthly Property Tax: ${property_tax_monthly:.3f}\"))"
   ]
  },
  {
   "cell_type": "markdown",
   "metadata": {},
   "source": [
    "### Maitenance Cost\n",
    "1. Will be assumed to be 1% of the purchase price. "
   ]
  },
  {
   "cell_type": "code",
   "execution_count": 30,
   "metadata": {},
   "outputs": [
    {
     "name": "stdout",
     "output_type": "stream",
     "text": [
      "Monthly Maitenance: $-916.667\n"
     ]
    }
   ],
   "source": [
    "maitenance_cost_annual = - home_price * .01\n",
    "\n",
    "maitenance_cost_monthly = maitenance_cost_annual/12\n",
    "\n",
    "print((f\"Monthly Maitenance: ${maitenance_cost_monthly:.3f}\"))"
   ]
  },
  {
   "cell_type": "markdown",
   "metadata": {},
   "source": [
    "### Cost of Capital\n",
    "\n",
    "Broken Down into two categories: Cost of Debt, Cost of Equity.\n",
    "\n",
    "#### Mortgage\n",
    "To buy a home, you usually purchase with a down-payment in cash. This is Typically 20% of the value of the home, with the rest of the value being financed with a mortgage. \n",
    "- The down-payment is your **equity**\n",
    "- The mortgage is your **debt**, and the mortgage interest cost is the **unrecoverable cost**\n",
    "- Together your debt and equity make up 100% of the value of your home\n",
    "$$ \\text{Cost of Capital} = \\text{Cost of Debt + Cost of Equity} $$\n",
    "\n",
    "#### Cost of Debt\n",
    "$\\text{Cost of Debt}$ is the interest you pay on your mortgage.\n",
    "- In 2022 annual mortgage rates in New Jersey for a 30-yr fixed with 200-300k downpayment  and a 780 credit rating are ~ 6%"
   ]
  },
  {
   "cell_type": "code",
   "execution_count": 31,
   "metadata": {},
   "outputs": [
    {
     "name": "stdout",
     "output_type": "stream",
     "text": [
      "Cost of Debt Monthly: $-3569.259\n"
     ]
    }
   ],
   "source": [
    "# Mortgage Amount\n",
    "mortgage = home_price * .80\n",
    "\n",
    "# Mortgage Rate for 30 year fixed-rate \n",
    "mortgage_rate = .027\n",
    "\n",
    "# Mortgage Length\n",
    "years = 30\n",
    "\n",
    "# monthly mortgage payment, ammortized over 30 year period\n",
    "cost_of_debt_monthly = npf.pmt(mortgage_rate/12, 12*years, mortgage)\n",
    "print((f\"Cost of Debt Monthly: ${cost_of_debt_monthly:.3f}\"))"
   ]
  },
  {
   "cell_type": "markdown",
   "metadata": {},
   "source": [
    "#### Cost of Equity\n",
    "$ \\text{Cost of Equity} $ is the Opportunity Cost incurred from using the 20% downpayment as a real estate investment rather than in the stock market. \n",
    "\n",
    "- The simplest way to compare stock and real estate is by examining the indexed performance of both markets. From March 1992 to March 2022, the U.S. housing average growth rate was 5.3%.\n",
    "\n",
    "- The S&P 500 returned 9.65% annualized from the beginning of 1992 to the same period in 2022.\n",
    "\n",
    "We are aggressive stock investors, so we'll use the historical S&P 500 return.\n",
    "\n",
    "9.65% - 5.3% = 3.35% is the annualized Opportunity Cost of investing in real estate vs. the stock market\n"
   ]
  },
  {
   "cell_type": "code",
   "execution_count": 32,
   "metadata": {},
   "outputs": [
    {
     "name": "stdout",
     "output_type": "stream",
     "text": [
      "Cost of Debt Monthly: $-3569.259\n",
      "Cost of Equity Monthly: $-614.167\n",
      "Cost of Capital Monthly: $-4183.426\n"
     ]
    }
   ],
   "source": [
    "\n",
    "# down payment\n",
    "down_payment = home_price * .20\n",
    "\n",
    "# opportunity cost = 9.65% - 5.3% \n",
    "opportunity_cost = .0335\n",
    "\n",
    "# cost of equity annual\n",
    "cost_of_equity_annual = down_payment * - opportunity_cost\n",
    "\n",
    "# cost of equity monthly\n",
    "cost_of_equity_monthly = cost_of_equity_annual/12\n",
    "\n",
    "# cost of capital\n",
    "cost_of_capital_monthly = cost_of_equity_monthly + cost_of_debt_monthly\n",
    "\n",
    "print((f\"Cost of Debt Monthly: ${cost_of_debt_monthly:.3f}\"))\n",
    "print((f\"Cost of Equity Monthly: ${cost_of_equity_monthly:.3f}\"))\n",
    "print((f\"Cost of Capital Monthly: ${cost_of_capital_monthly:.3f}\"))"
   ]
  },
  {
   "cell_type": "markdown",
   "metadata": {},
   "source": [
    "### Putting it all Together\n",
    "\n",
    "$$\\text{Breakeven = Property Tax + Maitenance + Cost of Capital}$$"
   ]
  },
  {
   "cell_type": "code",
   "execution_count": 33,
   "metadata": {},
   "outputs": [
    {
     "name": "stdout",
     "output_type": "stream",
     "text": [
      "Breakeven Monthly: $-7318.426\n"
     ]
    }
   ],
   "source": [
    "rent_breakeven = property_tax_monthly + maitenance_cost_monthly + cost_of_capital_monthly\n",
    "rent_breakeven\n",
    "\n",
    "print((f\"Breakeven Monthly: ${rent_breakeven:.3f}\"))"
   ]
  },
  {
   "cell_type": "code",
   "execution_count": 34,
   "metadata": {},
   "outputs": [
    {
     "data": {
      "text/plain": [
       "<Axes: xlabel='Cost Type', ylabel='Monthly Amount'>"
      ]
     },
     "execution_count": 34,
     "metadata": {},
     "output_type": "execute_result"
    },
    {
     "data": {
      "image/png": "[encoded data removed]",
      "text/plain": [
       "<Figure size 640x480 with 1 Axes>"
      ]
     },
     "metadata": {},
     "output_type": "display_data"
    }
   ],
   "source": [
    "home_df = pd.DataFrame()\n",
    "home_df['Cost Type'] = ['Property Tax', 'Maitenance Cost', 'Cost of Debt', 'Cost of Equity']\n",
    "home_df['Monthly Amount'] = [property_tax_monthly, maitenance_cost_monthly, cost_of_debt_monthly, cost_of_equity_monthly]\n",
    "\n",
    "# multiply by -1 to make positive and plot on graph\n",
    "home_df['Monthly Amount'] = home_df['Monthly Amount'] * -1\n",
    "\n",
    "# style = dark\n",
    "sns.set_style('darkgrid')\n",
    "\n",
    "# plot barplot\n",
    "sns.barplot(x='Cost Type', y='Monthly Amount', data=home_df)\n"
   ]
  }
 ],
 "metadata": {
  "kernelspec": {
   "display_name": "Python 3.10.6 64-bit",
   "language": "python",
   "name": "python3"
  },
  "language_info": {
   "codemirror_mode": {
    "name": "ipython",
    "version": 3
   },
   "file_extension": ".py",
   "mimetype": "text/x-python",
   "name": "python",
   "nbconvert_exporter": "python",
   "pygments_lexer": "ipython3",
   "version": "3.9.13"
  },
  "orig_nbformat": 4,
  "vscode": {
   "interpreter": {
    "hash": "09ab9d09769e58172906761f459bc163a0e89466ed4f026e5ecbc7e4a778c55c"
   }
  }
 },
 "nbformat": 4,
 "nbformat_minor": 2
}
